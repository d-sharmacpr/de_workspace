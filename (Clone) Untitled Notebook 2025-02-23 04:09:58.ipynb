{
 "cells": [
  {
   "cell_type": "code",
   "execution_count": 0,
   "metadata": {
    "application/vnd.databricks.v1+cell": {
     "cellMetadata": {
      "byteLimit": 2048000,
      "rowLimit": 10000
     },
     "inputWidgets": {},
     "nuid": "e0987be1-625b-46a0-97ff-9395dda433b1",
     "showTitle": false,
     "tableResultSettingsMap": {},
     "title": ""
    }
   },
   "outputs": [],
   "source": [
    "from pyspark.sql.types import StructField,StructType,ArrayType,StringType,IntegerType\n",
    "data=[(1,'John','ADF'),(1,'John','ADB'),(1,'John','PowerBI'),(2,'Steve','ADF'),(2,'Steve','SQL'),(2,'Steve','Crystal Report'),(3,'James','ADF'),(3,'James','SQL'),(3,'James','SSIS'),(4,'Acey','SQL'),(4,'Acey','SSIS'),(4,'Acey','SSIS'),(4,'Acey','ADF')]\n",
    "\n",
    "schema=[\"EmpId\",\"EmpName\",\"Skill\"]\n",
    "\n",
    "schema = StructType(\n",
    "    [StructField(\"EmpId\",IntegerType(),True),\n",
    "     StructField(\"EmpName\",StringType(),True),\n",
    "     StructField(\"Skill\",StringType(),True)\n",
    "     ]\n",
    ")\n",
    "df1=spark.createDataFrame(data,schema)\n",
    "df1.display()"
   ]
  },
  {
   "cell_type": "code",
   "execution_count": 0,
   "metadata": {
    "application/vnd.databricks.v1+cell": {
     "cellMetadata": {
      "byteLimit": 2048000,
      "rowLimit": 10000
     },
     "inputWidgets": {},
     "nuid": "3ee17846-bf6b-4bbe-8f4d-139c66cf74fe",
     "showTitle": false,
     "tableResultSettingsMap": {},
     "title": ""
    }
   },
   "outputs": [],
   "source": [
    "data=[(1,'John','ADF'),(1,'John','ADB'),(1,'John','PowerBI'),(2,'Steve','ADF'),(2,'Steve','SQL'),(2,'Steve','Crystal Report'),(3,'James','ADF'),(3,'James','SQL'),(3,'James','SSIS'),(4,'Acey','SQL'),(4,'Acey','SSIS'),(4,'Acey','SSIS'),(4,'Acey','ADF')]\n",
    "\n",
    "schema=[\"EmpId\",\"EmpName\",\"Skill\"]\n",
    "df1=spark.createDataFrame(data,schema)"
   ]
  },
  {
   "cell_type": "code",
   "execution_count": 0,
   "metadata": {
    "application/vnd.databricks.v1+cell": {
     "cellMetadata": {
      "byteLimit": 2048000,
      "rowLimit": 10000
     },
     "inputWidgets": {},
     "nuid": "5f04ccf9-082a-49a1-919d-282033f7dc62",
     "showTitle": false,
     "tableResultSettingsMap": {},
     "title": ""
    }
   },
   "outputs": [],
   "source": [
    "df1.show()"
   ]
  },
  {
   "cell_type": "code",
   "execution_count": 0,
   "metadata": {
    "application/vnd.databricks.v1+cell": {
     "cellMetadata": {
      "byteLimit": 2048000,
      "rowLimit": 10000
     },
     "inputWidgets": {},
     "nuid": "f1ebaa01-d276-4548-b602-9d6e11e01a9b",
     "showTitle": false,
     "tableResultSettingsMap": {},
     "title": ""
    }
   },
   "outputs": [],
   "source": [
    "from pyspark.sql.functions import *\n",
    "df = df1.groupBy(col('EmpId'),col('EmpName')).agg(collect_list(col('Skill')).alias('skill'))\n",
    "df.show()"
   ]
  },
  {
   "cell_type": "code",
   "execution_count": 0,
   "metadata": {
    "application/vnd.databricks.v1+cell": {
     "cellMetadata": {
      "byteLimit": 2048000,
      "rowLimit": 10000
     },
     "inputWidgets": {},
     "nuid": "e00cd405-e1fb-4a70-abb2-78232a3fc637",
     "showTitle": false,
     "tableResultSettingsMap": {},
     "title": ""
    }
   },
   "outputs": [],
   "source": [
    "df = df1.groupBy(col('EmpId'),col('EmpName')).agg(collect_set(col('Skill')).alias('skill'))\n",
    "df.display()"
   ]
  },
  {
   "cell_type": "code",
   "execution_count": 0,
   "metadata": {
    "application/vnd.databricks.v1+cell": {
     "cellMetadata": {
      "byteLimit": 2048000,
      "rowLimit": 10000
     },
     "inputWidgets": {},
     "nuid": "a3127abe-40ec-439c-b001-b7be322d382b",
     "showTitle": false,
     "tableResultSettingsMap": {},
     "title": ""
    }
   },
   "outputs": [],
   "source": [
    "df.select(col('empid'),col('empname'),explode(col('skill'))).display()"
   ]
  },
  {
   "cell_type": "code",
   "execution_count": 0,
   "metadata": {
    "application/vnd.databricks.v1+cell": {
     "cellMetadata": {
      "byteLimit": 2048000,
      "rowLimit": 10000
     },
     "inputWidgets": {},
     "nuid": "588b75cd-3a17-4759-bc0d-1c1355835cbc",
     "showTitle": false,
     "tableResultSettingsMap": {},
     "title": ""
    }
   },
   "outputs": [],
   "source": [
    "from pyspark.sql.window import Window\n",
    "\n",
    "win = Window.partitionBy('empid').orderBy(col('EmpName'))\n",
    "df = df1.withColumn('rank',row_number().over(win)).withColumn('skill_count',sum('empid').over(win))\n",
    "df.display()"
   ]
  },
  {
   "cell_type": "code",
   "execution_count": 0,
   "metadata": {
    "application/vnd.databricks.v1+cell": {
     "cellMetadata": {},
     "inputWidgets": {},
     "nuid": "33c19cc9-df0f-4679-8864-0c86e0a31b53",
     "showTitle": false,
     "tableResultSettingsMap": {},
     "title": ""
    }
   },
   "outputs": [],
   "source": []
  }
 ],
 "metadata": {
  "application/vnd.databricks.v1+notebook": {
   "computePreferences": null,
   "dashboards": [],
   "environmentMetadata": {
    "base_environment": "",
    "environment_version": "2"
   },
   "language": "python",
   "notebookMetadata": {
    "pythonIndentUnit": 4
   },
   "notebookName": "(Clone) Untitled Notebook 2025-02-23 04:09:58",
   "widgets": {}
  },
  "language_info": {
   "name": "python"
  }
 },
 "nbformat": 4,
 "nbformat_minor": 0
}
